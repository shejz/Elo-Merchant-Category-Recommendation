{
  "nbformat": 4,
  "nbformat_minor": 0,
  "metadata": {
    "colab": {
      "name": "model_blend.ipynb",
      "provenance": [],
      "collapsed_sections": [],
      "machine_shape": "hm"
    },
    "kernelspec": {
      "name": "python3",
      "display_name": "Python 3"
    }
  },
  "cells": [
    {
      "cell_type": "code",
      "metadata": {
        "id": "2lggJ1QPSdqU",
        "colab_type": "code",
        "colab": {}
      },
      "source": [
        "# Load packages\n",
        "import numpy as np\n",
        "import pandas as pd\n",
        "\n",
        "import matplotlib.pyplot as plt\n",
        "import seaborn as sns\n",
        "%matplotlib inline\n",
        "# Configure seaborn\n",
        "sns.set(style=\"white\")\n",
        "\n",
        "import warnings \n",
        "warnings.filterwarnings('ignore')\n"
      ],
      "execution_count": 0,
      "outputs": []
    },
    {
      "cell_type": "code",
      "metadata": {
        "id": "CBVPwT5OZNCa",
        "colab_type": "code",
        "colab": {}
      },
      "source": [
        "train        = pd.read_csv('/content/train.csv.zip', parse_dates=[\"first_active_month\"])\n",
        "test         = pd.read_csv('/content/test.csv.zip', parse_dates=[\"first_active_month\"])\n",
        "ht           = pd.read_csv('/content/historical_transactions.csv.zip',parse_dates=['purchase_date'])\n",
        "merchant     = pd.read_csv('/content/merchants.csv.zip')\n",
        "new_transactions = pd.read_csv('/content/new_merchant_transactions.csv.zip',parse_dates=[\"purchase_date\"])\n",
        "sample       = pd.read_csv('/content/sample_submission.csv.zip')"
      ],
      "execution_count": 0,
      "outputs": []
    },
    {
      "cell_type": "code",
      "metadata": {
        "id": "krpedF6afkoy",
        "colab_type": "code",
        "colab": {}
      },
      "source": [
        "def reduce_mem_usage(df, verbose=True):\n",
        "    numerics = ['int16', 'int32', 'int64', 'float16', 'float32', 'float64']\n",
        "    start_mem = df.memory_usage().sum() / 1024**2    \n",
        "    for col in df.columns:\n",
        "        col_type = df[col].dtypes\n",
        "        if col_type in numerics:\n",
        "            c_min = df[col].min()\n",
        "            c_max = df[col].max()\n",
        "            if str(col_type)[:3] == 'int':\n",
        "                if c_min > np.iinfo(np.int8).min and c_max < np.iinfo(np.int8).max:\n",
        "                    df[col] = df[col].astype(np.int8)\n",
        "                elif c_min > np.iinfo(np.int16).min and c_max < np.iinfo(np.int16).max:\n",
        "                    df[col] = df[col].astype(np.int16)\n",
        "                elif c_min > np.iinfo(np.int32).min and c_max < np.iinfo(np.int32).max:\n",
        "                    df[col] = df[col].astype(np.int32)\n",
        "                elif c_min > np.iinfo(np.int64).min and c_max < np.iinfo(np.int64).max:\n",
        "                    df[col] = df[col].astype(np.int64)  \n",
        "            else:\n",
        "                if c_min > np.finfo(np.float16).min and c_max < np.finfo(np.float16).max:\n",
        "                    df[col] = df[col].astype(np.float16)\n",
        "                elif c_min > np.finfo(np.float32).min and c_max < np.finfo(np.float32).max:\n",
        "                    df[col] = df[col].astype(np.float32)\n",
        "                else:\n",
        "                    df[col] = df[col].astype(np.float64)    \n",
        "    end_mem = df.memory_usage().sum() / 1024**2\n",
        "    if verbose: print('Mem. usage decreased to {:5.2f} Mb ({:.1f}% reduction)'.format(end_mem, 100 * (start_mem - end_mem) / start_mem))\n",
        "    return df"
      ],
      "execution_count": 0,
      "outputs": []
    },
    {
      "cell_type": "code",
      "metadata": {
        "id": "7ciBG3SnZzLc",
        "colab_type": "code",
        "outputId": "d1e1c830-c0f3-4c80-b974-a0e6a231d2a9",
        "colab": {
          "base_uri": "https://localhost:8080/",
          "height": 85
        }
      },
      "source": [
        "train        = reduce_mem_usage(train)\n",
        "test         = reduce_mem_usage(test)\n",
        "ht           = reduce_mem_usage(ht)\n",
        "new_transactions = reduce_mem_usage(new_transactions)"
      ],
      "execution_count": 4,
      "outputs": [
        {
          "output_type": "stream",
          "text": [
            "Mem. usage decreased to  4.04 Mb (56.2% reduction)\n",
            "Mem. usage decreased to  2.24 Mb (52.5% reduction)\n",
            "Mem. usage decreased to 1749.11 Mb (43.7% reduction)\n",
            "Mem. usage decreased to 114.20 Mb (45.5% reduction)\n"
          ],
          "name": "stdout"
        }
      ]
    },
    {
      "cell_type": "code",
      "metadata": {
        "id": "c2E5zNilDfML",
        "colab_type": "code",
        "colab": {}
      },
      "source": [
        "df1 = pd.read_csv('/content/model_no_outlier.csv.csv')                     # Public Leaderboard Score: 3.69254\n",
        "df2 = pd.read_csv('/content/subm_3.648358_LGBM_cv11_2019-02-15-09-02.csv') # Public Leaderboard Score: 3.69148"
      ],
      "execution_count": 0,
      "outputs": []
    },
    {
      "cell_type": "code",
      "metadata": {
        "id": "4tOgPCHDDpFZ",
        "colab_type": "code",
        "colab": {}
      },
      "source": [
        "df1['target'] = .5*df1['target'] + .5*df2['target']"
      ],
      "execution_count": 0,
      "outputs": []
    },
    {
      "cell_type": "code",
      "metadata": {
        "id": "iSfSXDMJDrcC",
        "colab_type": "code",
        "colab": {}
      },
      "source": [
        "df1.to_csv('blending.csv',index=False)"
      ],
      "execution_count": 0,
      "outputs": []
    }
  ]
}