{
  "nbformat": 4,
  "nbformat_minor": 0,
  "metadata": {
    "kernelspec": {
      "display_name": "Python 3",
      "language": "python",
      "name": "python3"
    },
    "language_info": {
      "name": "python",
      "version": "3.6.6",
      "mimetype": "text/x-python",
      "codemirror_mode": {
        "name": "ipython",
        "version": 3
      },
      "pygments_lexer": "ipython3",
      "nbconvert_exporter": "python",
      "file_extension": ".py"
    },
    "toc": {
      "base_numbering": 1,
      "nav_menu": {},
      "number_sections": true,
      "sideBar": true,
      "skip_h1_title": false,
      "title_cell": "Table of Contents",
      "title_sidebar": "Contents",
      "toc_cell": false,
      "toc_position": {},
      "toc_section_display": true,
      "toc_window_display": false
    },
    "colab": {
      "name": "a-model-without-outlier.ipynb",
      "provenance": []
    },
    "accelerator": "GPU"
  },
  "cells": [
    {
      "cell_type": "markdown",
      "metadata": {
        "_uuid": "9e97164a7191d9d43ba8158c0f7e13aa455a0ce9",
        "id": "U-i4Kymr3qd-",
        "colab_type": "text"
      },
      "source": [
        "# **Combining model with a model without outlier**"
      ]
    },
    {
      "cell_type": "markdown",
      "metadata": {
        "_uuid": "e0f082732acbf893c2cd4c07200904effcfde928",
        "id": "rckFzA0r3qeF",
        "colab_type": "text"
      },
      "source": [
        "Assuming that you have already finished your feature engineering and you have two dataset:\n",
        "\n",
        "- ***train_clean.csv***\n",
        "- ***test_clean.csv***\n",
        "\n",
        "In train_clean.csv, there's an **'outlier' column with values 1/0. **\n",
        "\n",
        "Besides, you have your best LB submission:\n",
        "- ***3.695.csv*** (thanks  **Ashish Patel** My original model can't rich this score, so I try to use the idea to improve your submission to get better LB socre.）\n",
        "\n",
        "The flows of this pipline is as follows:\n",
        "1. Training a model using a training set without outliers. (we get: **Model_1**)\n",
        "2. Training a model to classify outliers. (we get: **Model_2**)\n",
        "3. Using **Model_2** to predict whether an card_id in test set is an outliers. (we get:**Outlier_Likelyhood**)\n",
        "4. Spliting out the card_id from **Outlier_Likelyhood** with top 10% (or some other ratio) score. (we get:**Outlier_ID**)\n",
        "5. Combining your submission using your **best submission (that is, your best model)** to predict **Outlier_ID** in test set and using **Model_1** to predict the rest of the test set.\n",
        "\n",
        "The  basic idea behind this pipline is:\n",
        "1. Training model without outliers make the model more accurate for non-outliers.\n",
        "2. A great proportion of the error is caused by outliers, so we need to use a model training with outliers to predict them. How to find them out? build a classifier!"
      ]
    },
    {
      "cell_type": "code",
      "metadata": {
        "trusted": true,
        "_uuid": "7dd3ea3236069cf9706e377d6594c39b5e5a5507",
        "id": "fAtfSOrP3qeJ",
        "colab_type": "code",
        "colab": {}
      },
      "source": [
        "import numpy as np\n",
        "import pandas as pd\n",
        "import time\n",
        "import lightgbm as lgb\n",
        "from sklearn.model_selection import StratifiedKFold, KFold\n",
        "from sklearn.metrics import mean_squared_error\n",
        "from sklearn.metrics import log_loss"
      ],
      "execution_count": 0,
      "outputs": []
    },
    {
      "cell_type": "markdown",
      "metadata": {
        "_uuid": "fcf141a7658f4089b1de2822ba41da9646c73835",
        "id": "fBCT4sRi3qef",
        "colab_type": "text"
      },
      "source": [
        "## **I. Training Model Without Outliers**"
      ]
    },
    {
      "cell_type": "code",
      "metadata": {
        "trusted": true,
        "_uuid": "aef67435b765a8c55e8a7653b47ad8d9071ea11b",
        "id": "6322PbMC3qei",
        "colab_type": "code",
        "colab": {
          "base_uri": "https://localhost:8080/",
          "height": 51
        },
        "outputId": "a8f0278c-9ee5-4057-fcce-de9bde755eba"
      },
      "source": [
        "%%time\n",
        "df_train = pd.read_csv('/content/train_clean.csv')\n",
        "df_test = pd.read_csv('/content/test_clean.csv')"
      ],
      "execution_count": 2,
      "outputs": [
        {
          "output_type": "stream",
          "text": [
            "CPU times: user 3.94 s, sys: 276 ms, total: 4.21 s\n",
            "Wall time: 4.22 s\n"
          ],
          "name": "stdout"
        }
      ]
    },
    {
      "cell_type": "markdown",
      "metadata": {
        "_uuid": "18d93d315eee398fb1cff4ad8d115c21d359cd49",
        "id": "ixL1Hhxo3qew",
        "colab_type": "text"
      },
      "source": [
        "### Filtering out outliers"
      ]
    },
    {
      "cell_type": "code",
      "metadata": {
        "trusted": true,
        "_uuid": "3eb5ac784a25271b3433f6371d7b46cdabb420b5",
        "id": "uhuW9ejL3qez",
        "colab_type": "code",
        "colab": {}
      },
      "source": [
        "df_train = df_train[df_train['outliers'] == 0]\n",
        "target = df_train['target']\n",
        "del df_train['target']\n",
        "features = [c for c in df_train.columns if c not in ['card_id', 'first_active_month','outliers']]\n",
        "categorical_feats = [c for c in features if 'feature_' in c]"
      ],
      "execution_count": 0,
      "outputs": []
    },
    {
      "cell_type": "markdown",
      "metadata": {
        "_uuid": "8256bfde460ac4adc45852228a12194b2be6b497",
        "id": "nYHU2EJ73qe_",
        "colab_type": "text"
      },
      "source": [
        "### Parameters"
      ]
    },
    {
      "cell_type": "code",
      "metadata": {
        "trusted": true,
        "_uuid": "a0ecb4a6605d477b290275f404a508bfacd614e0",
        "id": "98VbYsX73qfB",
        "colab_type": "code",
        "colab": {}
      },
      "source": [
        "param = {'objective':'regression',\n",
        "         'num_leaves': 31,\n",
        "         'min_data_in_leaf': 25,\n",
        "         'max_depth': 7,\n",
        "         'learning_rate': 0.01,\n",
        "         'lambda_l1':0.13,\n",
        "         \"boosting\": \"gbdt\",\n",
        "         \"feature_fraction\":0.85,\n",
        "         'bagging_freq':8,\n",
        "         \"bagging_fraction\": 0.9 ,\n",
        "         \"metric\": 'rmse',\n",
        "         \"verbosity\": -1,\n",
        "         \"random_state\": 2333}"
      ],
      "execution_count": 0,
      "outputs": []
    },
    {
      "cell_type": "markdown",
      "metadata": {
        "_uuid": "204231995912b388ad8d6bed1c602c6fa29ebb4a",
        "id": "QO5rJbAd3qfP",
        "colab_type": "text"
      },
      "source": [
        "### Training model"
      ]
    },
    {
      "cell_type": "code",
      "metadata": {
        "trusted": true,
        "_uuid": "1f153534282a64ea904b599143b023f56bf01e05",
        "scrolled": true,
        "id": "3XCGhWe53qfR",
        "colab_type": "code",
        "colab": {
          "base_uri": "https://localhost:8080/",
          "height": 1000
        },
        "outputId": "ddd4fc92-1457-4c33-e6e8-c68b1a238119"
      },
      "source": [
        "%%time\n",
        "folds = StratifiedKFold(n_splits=5, shuffle=True, random_state=2333)\n",
        "oof = np.zeros(len(df_train))\n",
        "predictions = np.zeros(len(df_test))\n",
        "feature_importance_df = pd.DataFrame()\n",
        "\n",
        "for fold_, (trn_idx, val_idx) in enumerate(folds.split(df_train,df_train['outliers'].values)):\n",
        "    print(\"fold {}\".format(fold_))\n",
        "    trn_data = lgb.Dataset(df_train.iloc[trn_idx][features], label=target.iloc[trn_idx]))\n",
        "    val_data = lgb.Dataset(df_train.iloc[val_idx][features], label=target.iloc[val_idx]))\n",
        "\n",
        "    num_round = 10000\n",
        "    clf = lgb.train(param, trn_data, num_round, valid_sets = [trn_data, val_data], verbose_eval= 100, early_stopping_rounds = 200)\n",
        "    oof[val_idx] = clf.predict(df_train.iloc[val_idx][features], num_iteration=clf.best_iteration)\n",
        "    \n",
        "    fold_importance_df = pd.DataFrame()\n",
        "    fold_importance_df[\"Feature\"] = features\n",
        "    fold_importance_df[\"importance\"] = clf.feature_importance()\n",
        "    fold_importance_df[\"fold\"] = fold_ + 1\n",
        "    feature_importance_df = pd.concat([feature_importance_df, fold_importance_df], axis=0)\n",
        "    \n",
        "    predictions += clf.predict(df_test[features], num_iteration=clf.best_iteration) / folds.n_splits\n",
        "\n",
        "print(\"CV score: {:<8.5f}\".format(mean_squared_error(oof, target)**0.5))"
      ],
      "execution_count": 5,
      "outputs": [
        {
          "output_type": "stream",
          "text": [
            "fold 0\n",
            "Training until validation scores don't improve for 200 rounds.\n",
            "[100]\ttraining's rmse: 1.60848\tvalid_1's rmse: 1.6135\n",
            "[200]\ttraining's rmse: 1.57816\tvalid_1's rmse: 1.58471\n",
            "[300]\ttraining's rmse: 1.56375\tvalid_1's rmse: 1.57287\n",
            "[400]\ttraining's rmse: 1.5544\tvalid_1's rmse: 1.56657\n",
            "[500]\ttraining's rmse: 1.54735\tvalid_1's rmse: 1.56276\n",
            "[600]\ttraining's rmse: 1.54165\tvalid_1's rmse: 1.56036\n",
            "[700]\ttraining's rmse: 1.53677\tvalid_1's rmse: 1.55887\n",
            "[800]\ttraining's rmse: 1.53226\tvalid_1's rmse: 1.55788\n",
            "[900]\ttraining's rmse: 1.52817\tvalid_1's rmse: 1.55719\n",
            "[1000]\ttraining's rmse: 1.52434\tvalid_1's rmse: 1.55676\n",
            "[1100]\ttraining's rmse: 1.52081\tvalid_1's rmse: 1.55641\n",
            "[1200]\ttraining's rmse: 1.51732\tvalid_1's rmse: 1.55626\n",
            "[1300]\ttraining's rmse: 1.51413\tvalid_1's rmse: 1.55605\n",
            "[1400]\ttraining's rmse: 1.51097\tvalid_1's rmse: 1.5559\n",
            "[1500]\ttraining's rmse: 1.50777\tvalid_1's rmse: 1.55583\n",
            "[1600]\ttraining's rmse: 1.50459\tvalid_1's rmse: 1.55568\n",
            "[1700]\ttraining's rmse: 1.50144\tvalid_1's rmse: 1.55553\n",
            "[1800]\ttraining's rmse: 1.49836\tvalid_1's rmse: 1.55543\n",
            "[1900]\ttraining's rmse: 1.49532\tvalid_1's rmse: 1.55544\n",
            "[2000]\ttraining's rmse: 1.49226\tvalid_1's rmse: 1.5554\n",
            "[2100]\ttraining's rmse: 1.4895\tvalid_1's rmse: 1.55529\n",
            "[2200]\ttraining's rmse: 1.4865\tvalid_1's rmse: 1.55525\n",
            "[2300]\ttraining's rmse: 1.48361\tvalid_1's rmse: 1.55523\n",
            "[2400]\ttraining's rmse: 1.48063\tvalid_1's rmse: 1.55528\n",
            "Early stopping, best iteration is:\n",
            "[2266]\ttraining's rmse: 1.48461\tvalid_1's rmse: 1.55519\n",
            "fold 1\n",
            "Training until validation scores don't improve for 200 rounds.\n",
            "[100]\ttraining's rmse: 1.61026\tvalid_1's rmse: 1.60478\n",
            "[200]\ttraining's rmse: 1.57937\tvalid_1's rmse: 1.57788\n",
            "[300]\ttraining's rmse: 1.56472\tvalid_1's rmse: 1.56695\n",
            "[400]\ttraining's rmse: 1.55513\tvalid_1's rmse: 1.56127\n",
            "[500]\ttraining's rmse: 1.5481\tvalid_1's rmse: 1.55784\n",
            "[600]\ttraining's rmse: 1.54244\tvalid_1's rmse: 1.55582\n",
            "[700]\ttraining's rmse: 1.53758\tvalid_1's rmse: 1.55437\n",
            "[800]\ttraining's rmse: 1.53326\tvalid_1's rmse: 1.55357\n",
            "[900]\ttraining's rmse: 1.5293\tvalid_1's rmse: 1.55288\n",
            "[1000]\ttraining's rmse: 1.52554\tvalid_1's rmse: 1.55248\n",
            "[1100]\ttraining's rmse: 1.52192\tvalid_1's rmse: 1.55223\n",
            "[1200]\ttraining's rmse: 1.51865\tvalid_1's rmse: 1.55183\n",
            "[1300]\ttraining's rmse: 1.51536\tvalid_1's rmse: 1.55153\n",
            "[1400]\ttraining's rmse: 1.51213\tvalid_1's rmse: 1.55126\n",
            "[1500]\ttraining's rmse: 1.50893\tvalid_1's rmse: 1.55102\n",
            "[1600]\ttraining's rmse: 1.50588\tvalid_1's rmse: 1.55097\n",
            "[1700]\ttraining's rmse: 1.50286\tvalid_1's rmse: 1.55086\n",
            "[1800]\ttraining's rmse: 1.49978\tvalid_1's rmse: 1.55066\n",
            "[1900]\ttraining's rmse: 1.49683\tvalid_1's rmse: 1.55064\n",
            "[2000]\ttraining's rmse: 1.49387\tvalid_1's rmse: 1.5506\n",
            "[2100]\ttraining's rmse: 1.491\tvalid_1's rmse: 1.55048\n",
            "[2200]\ttraining's rmse: 1.48818\tvalid_1's rmse: 1.55041\n",
            "[2300]\ttraining's rmse: 1.48538\tvalid_1's rmse: 1.55036\n",
            "[2400]\ttraining's rmse: 1.48255\tvalid_1's rmse: 1.5504\n",
            "[2500]\ttraining's rmse: 1.47955\tvalid_1's rmse: 1.55038\n",
            "Early stopping, best iteration is:\n",
            "[2386]\ttraining's rmse: 1.4829\tvalid_1's rmse: 1.55034\n",
            "fold 2\n",
            "Training until validation scores don't improve for 200 rounds.\n",
            "[100]\ttraining's rmse: 1.60613\tvalid_1's rmse: 1.61803\n",
            "[200]\ttraining's rmse: 1.57507\tvalid_1's rmse: 1.5935\n",
            "[300]\ttraining's rmse: 1.56023\tvalid_1's rmse: 1.58376\n",
            "[400]\ttraining's rmse: 1.55052\tvalid_1's rmse: 1.57884\n",
            "[500]\ttraining's rmse: 1.54331\tvalid_1's rmse: 1.57589\n",
            "[600]\ttraining's rmse: 1.53741\tvalid_1's rmse: 1.57417\n",
            "[700]\ttraining's rmse: 1.53236\tvalid_1's rmse: 1.57266\n",
            "[800]\ttraining's rmse: 1.52785\tvalid_1's rmse: 1.57178\n",
            "[900]\ttraining's rmse: 1.52396\tvalid_1's rmse: 1.57127\n",
            "[1000]\ttraining's rmse: 1.52008\tvalid_1's rmse: 1.5709\n",
            "[1100]\ttraining's rmse: 1.5165\tvalid_1's rmse: 1.5707\n",
            "[1200]\ttraining's rmse: 1.51298\tvalid_1's rmse: 1.57044\n",
            "[1300]\ttraining's rmse: 1.50963\tvalid_1's rmse: 1.57027\n",
            "[1400]\ttraining's rmse: 1.50646\tvalid_1's rmse: 1.5702\n",
            "[1500]\ttraining's rmse: 1.50327\tvalid_1's rmse: 1.57027\n",
            "Early stopping, best iteration is:\n",
            "[1384]\ttraining's rmse: 1.50707\tvalid_1's rmse: 1.57013\n",
            "fold 3\n",
            "Training until validation scores don't improve for 200 rounds.\n",
            "[100]\ttraining's rmse: 1.61125\tvalid_1's rmse: 1.59974\n",
            "[200]\ttraining's rmse: 1.58034\tvalid_1's rmse: 1.57314\n",
            "[300]\ttraining's rmse: 1.5656\tvalid_1's rmse: 1.56292\n",
            "[400]\ttraining's rmse: 1.55601\tvalid_1's rmse: 1.55729\n",
            "[500]\ttraining's rmse: 1.54896\tvalid_1's rmse: 1.55404\n",
            "[600]\ttraining's rmse: 1.54333\tvalid_1's rmse: 1.55189\n",
            "[700]\ttraining's rmse: 1.53826\tvalid_1's rmse: 1.55052\n",
            "[800]\ttraining's rmse: 1.53365\tvalid_1's rmse: 1.54956\n",
            "[900]\ttraining's rmse: 1.52952\tvalid_1's rmse: 1.54898\n",
            "[1000]\ttraining's rmse: 1.52563\tvalid_1's rmse: 1.5486\n",
            "[1100]\ttraining's rmse: 1.52205\tvalid_1's rmse: 1.54845\n",
            "[1200]\ttraining's rmse: 1.51868\tvalid_1's rmse: 1.54813\n",
            "[1300]\ttraining's rmse: 1.51525\tvalid_1's rmse: 1.54791\n",
            "[1400]\ttraining's rmse: 1.51195\tvalid_1's rmse: 1.54769\n",
            "[1500]\ttraining's rmse: 1.50893\tvalid_1's rmse: 1.54755\n",
            "[1600]\ttraining's rmse: 1.50569\tvalid_1's rmse: 1.54746\n",
            "[1700]\ttraining's rmse: 1.50251\tvalid_1's rmse: 1.54739\n",
            "[1800]\ttraining's rmse: 1.49952\tvalid_1's rmse: 1.54735\n",
            "[1900]\ttraining's rmse: 1.49638\tvalid_1's rmse: 1.54731\n",
            "[2000]\ttraining's rmse: 1.49351\tvalid_1's rmse: 1.54723\n",
            "[2100]\ttraining's rmse: 1.4907\tvalid_1's rmse: 1.54722\n",
            "[2200]\ttraining's rmse: 1.48768\tvalid_1's rmse: 1.54706\n",
            "[2300]\ttraining's rmse: 1.48475\tvalid_1's rmse: 1.54705\n",
            "[2400]\ttraining's rmse: 1.48206\tvalid_1's rmse: 1.54702\n",
            "[2500]\ttraining's rmse: 1.47922\tvalid_1's rmse: 1.54695\n",
            "[2600]\ttraining's rmse: 1.47663\tvalid_1's rmse: 1.54696\n",
            "[2700]\ttraining's rmse: 1.47392\tvalid_1's rmse: 1.54698\n",
            "[2800]\ttraining's rmse: 1.47105\tvalid_1's rmse: 1.54694\n",
            "[2900]\ttraining's rmse: 1.46846\tvalid_1's rmse: 1.54696\n",
            "Early stopping, best iteration is:\n",
            "[2768]\ttraining's rmse: 1.47198\tvalid_1's rmse: 1.54691\n",
            "fold 4\n",
            "Training until validation scores don't improve for 200 rounds.\n",
            "[100]\ttraining's rmse: 1.60485\tvalid_1's rmse: 1.62592\n",
            "[200]\ttraining's rmse: 1.57428\tvalid_1's rmse: 1.59933\n",
            "[300]\ttraining's rmse: 1.55985\tvalid_1's rmse: 1.5884\n",
            "[400]\ttraining's rmse: 1.55042\tvalid_1's rmse: 1.58234\n",
            "[500]\ttraining's rmse: 1.54345\tvalid_1's rmse: 1.5787\n",
            "[600]\ttraining's rmse: 1.53778\tvalid_1's rmse: 1.57645\n",
            "[700]\ttraining's rmse: 1.53299\tvalid_1's rmse: 1.57509\n",
            "[800]\ttraining's rmse: 1.5286\tvalid_1's rmse: 1.57411\n",
            "[900]\ttraining's rmse: 1.52466\tvalid_1's rmse: 1.57333\n",
            "[1000]\ttraining's rmse: 1.52099\tvalid_1's rmse: 1.57285\n",
            "[1100]\ttraining's rmse: 1.51728\tvalid_1's rmse: 1.57243\n",
            "[1200]\ttraining's rmse: 1.51408\tvalid_1's rmse: 1.57213\n",
            "[1300]\ttraining's rmse: 1.51094\tvalid_1's rmse: 1.57192\n",
            "[1400]\ttraining's rmse: 1.50765\tvalid_1's rmse: 1.57168\n",
            "[1500]\ttraining's rmse: 1.50439\tvalid_1's rmse: 1.57156\n",
            "[1600]\ttraining's rmse: 1.5013\tvalid_1's rmse: 1.57144\n",
            "[1700]\ttraining's rmse: 1.49812\tvalid_1's rmse: 1.57138\n",
            "[1800]\ttraining's rmse: 1.49512\tvalid_1's rmse: 1.57133\n",
            "[1900]\ttraining's rmse: 1.49202\tvalid_1's rmse: 1.5714\n",
            "[2000]\ttraining's rmse: 1.48916\tvalid_1's rmse: 1.57134\n",
            "Early stopping, best iteration is:\n",
            "[1819]\ttraining's rmse: 1.49457\tvalid_1's rmse: 1.57131\n",
            "CV score: 1.55881 \n",
            "CPU times: user 23min 36s, sys: 3.19 s, total: 23min 40s\n",
            "Wall time: 12min 3s\n"
          ],
          "name": "stdout"
        }
      ]
    },
    {
      "cell_type": "code",
      "metadata": {
        "trusted": true,
        "_uuid": "4842069eb5b3fa8617b624c1d2fd00940c75137e",
        "id": "djzPeaKV3qfc",
        "colab_type": "code",
        "colab": {}
      },
      "source": [
        "model_without_outliers = pd.DataFrame({\"card_id\":df_test[\"card_id\"].values})\n",
        "model_without_outliers[\"target\"] = predictions"
      ],
      "execution_count": 0,
      "outputs": []
    },
    {
      "cell_type": "markdown",
      "metadata": {
        "_uuid": "60b9a679754a23f8a07a4e06bf2003abdfbe57db",
        "id": "H3VVtyx43qfr",
        "colab_type": "text"
      },
      "source": [
        "## **II. Training Model For Outliers Classification**"
      ]
    },
    {
      "cell_type": "code",
      "metadata": {
        "trusted": true,
        "_uuid": "3f28c4be6b16f4e9d9e66d309a1c8f00175653f1",
        "id": "bYb_Pu8B3qft",
        "colab_type": "code",
        "colab": {
          "base_uri": "https://localhost:8080/",
          "height": 51
        },
        "outputId": "8d7296dc-37ce-474b-a974-ab3ff29afc33"
      },
      "source": [
        "%%time\n",
        "df_train = pd.read_csv('/content/train_clean.csv')\n",
        "df_test = pd.read_csv('/content/test_clean.csv')"
      ],
      "execution_count": 7,
      "outputs": [
        {
          "output_type": "stream",
          "text": [
            "CPU times: user 3.83 s, sys: 64.9 ms, total: 3.89 s\n",
            "Wall time: 3.9 s\n"
          ],
          "name": "stdout"
        }
      ]
    },
    {
      "cell_type": "markdown",
      "metadata": {
        "_uuid": "c2410c958c49b761f042ecdf5619af54730865d3",
        "id": "8GNNvTJg3qf7",
        "colab_type": "text"
      },
      "source": [
        "### Using outliers column as labels instead of target column"
      ]
    },
    {
      "cell_type": "code",
      "metadata": {
        "trusted": true,
        "_uuid": "19cf3932dbbbc42a8e7e0c50ac7ae4c74fd15f62",
        "id": "npTNZ6h03qf9",
        "colab_type": "code",
        "colab": {}
      },
      "source": [
        "target = df_train['outliers']\n",
        "del df_train['outliers']\n",
        "del df_train['target']"
      ],
      "execution_count": 0,
      "outputs": []
    },
    {
      "cell_type": "code",
      "metadata": {
        "trusted": true,
        "_uuid": "a60cc387b88592ae2ae6ad78f33d6adcce22780d",
        "id": "wCzBAknL3qgJ",
        "colab_type": "code",
        "colab": {}
      },
      "source": [
        "features = [c for c in df_train.columns if c not in ['card_id', 'first_active_month']]\n",
        "categorical_feats = [c for c in features if 'feature_' in c]"
      ],
      "execution_count": 0,
      "outputs": []
    },
    {
      "cell_type": "markdown",
      "metadata": {
        "_uuid": "8867a7ba6c07d9a6c0ee04277960ff4d9c1559a8",
        "id": "wGb4dIOz3qgi",
        "colab_type": "text"
      },
      "source": [
        "### Parameters"
      ]
    },
    {
      "cell_type": "code",
      "metadata": {
        "trusted": true,
        "_uuid": "b067562422807b5f08688c9c91e22c86998b07c8",
        "id": "3EIJWGmE3qgl",
        "colab_type": "code",
        "colab": {}
      },
      "source": [
        "param = {'num_leaves': 31,\n",
        "         'min_data_in_leaf': 30, \n",
        "         'objective':'binary',\n",
        "         'max_depth': 6,\n",
        "         'learning_rate': 0.01,\n",
        "         \"boosting\": \"rf\",\n",
        "         \"feature_fraction\": 0.9,\n",
        "         \"bagging_freq\": 1,\n",
        "         \"bagging_fraction\": 0.9 ,\n",
        "         \"bagging_seed\": 11,\n",
        "         \"metric\": 'binary_logloss',\n",
        "         \"lambda_l1\": 0.1,\n",
        "         \"verbosity\": -1,\n",
        "         \"random_state\": 2333}"
      ],
      "execution_count": 0,
      "outputs": []
    },
    {
      "cell_type": "markdown",
      "metadata": {
        "_uuid": "7664c74d5ed84d82d0a045b5f2862cf813a52fd8",
        "id": "xXripcjB3qgz",
        "colab_type": "text"
      },
      "source": [
        "### Training model"
      ]
    },
    {
      "cell_type": "code",
      "metadata": {
        "scrolled": true,
        "trusted": true,
        "_uuid": "292376354fc58ca097cc04128d31f3117c648653",
        "id": "ZMwULFjn3qg0",
        "colab_type": "code",
        "colab": {
          "base_uri": "https://localhost:8080/",
          "height": 901
        },
        "outputId": "b0e26a0e-7d6b-4310-c33a-e7dde4fbfe18"
      },
      "source": [
        "%%time\n",
        "folds = KFold(n_splits=5, shuffle=True, random_state=15)\n",
        "oof = np.zeros(len(df_train))\n",
        "predictions = np.zeros(len(df_test))\n",
        "feature_importance_df = pd.DataFrame()\n",
        "\n",
        "start = time.time()\n",
        "\n",
        "\n",
        "for fold_, (trn_idx, val_idx) in enumerate(folds.split(df_train.values, target.values)):\n",
        "    print(\"fold n°{}\".format(fold_))\n",
        "    trn_data = lgb.Dataset(df_train.iloc[trn_idx][features], label=target.iloc[trn_idx], categorical_feature=categorical_feats)\n",
        "    val_data = lgb.Dataset(df_train.iloc[val_idx][features], label=target.iloc[val_idx], categorical_feature=categorical_feats)\n",
        "\n",
        "    num_round = 10000\n",
        "    clf = lgb.train(param, trn_data, num_round, valid_sets = [trn_data, val_data], verbose_eval=100, early_stopping_rounds = 200)\n",
        "    oof[val_idx] = clf.predict(df_train.iloc[val_idx][features], num_iteration=clf.best_iteration)\n",
        "    \n",
        "    fold_importance_df = pd.DataFrame()\n",
        "    fold_importance_df[\"feature\"] = features\n",
        "    fold_importance_df[\"importance\"] = clf.feature_importance()\n",
        "    fold_importance_df[\"fold\"] = fold_ + 1\n",
        "    feature_importance_df = pd.concat([feature_importance_df, fold_importance_df], axis=0)\n",
        "    \n",
        "    predictions += clf.predict(df_test[features], num_iteration=clf.best_iteration) / folds.n_splits\n",
        "\n",
        "print(\"CV score: {:<8.5f}\".format(log_loss(target, oof)))"
      ],
      "execution_count": 11,
      "outputs": [
        {
          "output_type": "stream",
          "text": [
            "fold n°0\n"
          ],
          "name": "stdout"
        },
        {
          "output_type": "stream",
          "text": [
            "/usr/local/lib/python3.6/dist-packages/lightgbm/basic.py:1205: UserWarning: Using categorical_feature in Dataset.\n",
            "  warnings.warn('Using categorical_feature in Dataset.')\n",
            "/usr/local/lib/python3.6/dist-packages/lightgbm/basic.py:762: UserWarning: categorical_feature in param dict is overridden.\n",
            "  warnings.warn('categorical_feature in param dict is overridden.')\n"
          ],
          "name": "stderr"
        },
        {
          "output_type": "stream",
          "text": [
            "Training until validation scores don't improve for 200 rounds.\n",
            "[100]\ttraining's binary_logloss: 0.17393\tvalid_1's binary_logloss: 0.184568\n",
            "[200]\ttraining's binary_logloss: 0.171317\tvalid_1's binary_logloss: 0.182166\n",
            "[300]\ttraining's binary_logloss: 0.169496\tvalid_1's binary_logloss: 0.180408\n",
            "[400]\ttraining's binary_logloss: 0.169496\tvalid_1's binary_logloss: 0.180203\n",
            "[500]\ttraining's binary_logloss: 0.170259\tvalid_1's binary_logloss: 0.180901\n",
            "Early stopping, best iteration is:\n",
            "[362]\ttraining's binary_logloss: 0.169132\tvalid_1's binary_logloss: 0.179841\n",
            "fold n°1\n",
            "Training until validation scores don't improve for 200 rounds.\n",
            "[100]\ttraining's binary_logloss: 0.184874\tvalid_1's binary_logloss: 0.175541\n",
            "[200]\ttraining's binary_logloss: 0.183896\tvalid_1's binary_logloss: 0.174741\n",
            "[300]\ttraining's binary_logloss: 0.180105\tvalid_1's binary_logloss: 0.171359\n",
            "[400]\ttraining's binary_logloss: 0.180279\tvalid_1's binary_logloss: 0.171417\n",
            "[500]\ttraining's binary_logloss: 0.181017\tvalid_1's binary_logloss: 0.172223\n",
            "Early stopping, best iteration is:\n",
            "[309]\ttraining's binary_logloss: 0.179692\tvalid_1's binary_logloss: 0.170978\n",
            "fold n°2\n",
            "Training until validation scores don't improve for 200 rounds.\n",
            "[100]\ttraining's binary_logloss: 0.180303\tvalid_1's binary_logloss: 0.193003\n",
            "[200]\ttraining's binary_logloss: 0.177667\tvalid_1's binary_logloss: 0.190354\n",
            "[300]\ttraining's binary_logloss: 0.175227\tvalid_1's binary_logloss: 0.1876\n",
            "[400]\ttraining's binary_logloss: 0.174917\tvalid_1's binary_logloss: 0.187481\n",
            "[500]\ttraining's binary_logloss: 0.175644\tvalid_1's binary_logloss: 0.188395\n",
            "Early stopping, best iteration is:\n",
            "[309]\ttraining's binary_logloss: 0.174749\tvalid_1's binary_logloss: 0.187175\n",
            "fold n°3\n",
            "Training until validation scores don't improve for 200 rounds.\n",
            "[100]\ttraining's binary_logloss: 0.184318\tvalid_1's binary_logloss: 0.199468\n",
            "[200]\ttraining's binary_logloss: 0.181288\tvalid_1's binary_logloss: 0.19688\n",
            "[300]\ttraining's binary_logloss: 0.178448\tvalid_1's binary_logloss: 0.193901\n",
            "[400]\ttraining's binary_logloss: 0.178575\tvalid_1's binary_logloss: 0.19393\n",
            "[500]\ttraining's binary_logloss: 0.179279\tvalid_1's binary_logloss: 0.194751\n",
            "Early stopping, best iteration is:\n",
            "[309]\ttraining's binary_logloss: 0.178082\tvalid_1's binary_logloss: 0.193534\n",
            "fold n°4\n",
            "Training until validation scores don't improve for 200 rounds.\n",
            "[100]\ttraining's binary_logloss: 0.179888\tvalid_1's binary_logloss: 0.191937\n",
            "[200]\ttraining's binary_logloss: 0.177751\tvalid_1's binary_logloss: 0.189119\n",
            "[300]\ttraining's binary_logloss: 0.174742\tvalid_1's binary_logloss: 0.185917\n",
            "[400]\ttraining's binary_logloss: 0.174915\tvalid_1's binary_logloss: 0.186194\n",
            "[500]\ttraining's binary_logloss: 0.175689\tvalid_1's binary_logloss: 0.187198\n",
            "Early stopping, best iteration is:\n",
            "[309]\ttraining's binary_logloss: 0.174383\tvalid_1's binary_logloss: 0.185496\n",
            "CV score: 0.18340 \n",
            "CPU times: user 6min 32s, sys: 987 ms, total: 6min 33s\n",
            "Wall time: 3min 22s\n"
          ],
          "name": "stdout"
        }
      ]
    },
    {
      "cell_type": "code",
      "metadata": {
        "scrolled": true,
        "trusted": true,
        "_uuid": "41f9c7d0a52f8d5669704619fdf76ad1451afaa2",
        "id": "4JUM8-as3qg-",
        "colab_type": "code",
        "colab": {
          "base_uri": "https://localhost:8080/",
          "height": 204
        },
        "outputId": "349dcf63-2fd7-4feb-855c-f14700f693b3"
      },
      "source": [
        "# 'target' is the probability of whether an observation is an outlier\n",
        "df_outlier_prob = pd.DataFrame({\"card_id\":df_test[\"card_id\"].values})\n",
        "df_outlier_prob[\"target\"] = predictions\n",
        "df_outlier_prob.head()"
      ],
      "execution_count": 12,
      "outputs": [
        {
          "output_type": "execute_result",
          "data": {
            "text/html": [
              "<div>\n",
              "<style scoped>\n",
              "    .dataframe tbody tr th:only-of-type {\n",
              "        vertical-align: middle;\n",
              "    }\n",
              "\n",
              "    .dataframe tbody tr th {\n",
              "        vertical-align: top;\n",
              "    }\n",
              "\n",
              "    .dataframe thead th {\n",
              "        text-align: right;\n",
              "    }\n",
              "</style>\n",
              "<table border=\"1\" class=\"dataframe\">\n",
              "  <thead>\n",
              "    <tr style=\"text-align: right;\">\n",
              "      <th></th>\n",
              "      <th>card_id</th>\n",
              "      <th>target</th>\n",
              "    </tr>\n",
              "  </thead>\n",
              "  <tbody>\n",
              "    <tr>\n",
              "      <th>0</th>\n",
              "      <td>C_ID_0ab67a22ab</td>\n",
              "      <td>0.191482</td>\n",
              "    </tr>\n",
              "    <tr>\n",
              "      <th>1</th>\n",
              "      <td>C_ID_130fd0cbdd</td>\n",
              "      <td>0.004683</td>\n",
              "    </tr>\n",
              "    <tr>\n",
              "      <th>2</th>\n",
              "      <td>C_ID_b709037bc5</td>\n",
              "      <td>0.007254</td>\n",
              "    </tr>\n",
              "    <tr>\n",
              "      <th>3</th>\n",
              "      <td>C_ID_d27d835a9f</td>\n",
              "      <td>0.004683</td>\n",
              "    </tr>\n",
              "    <tr>\n",
              "      <th>4</th>\n",
              "      <td>C_ID_2b5e3df5c2</td>\n",
              "      <td>0.004683</td>\n",
              "    </tr>\n",
              "  </tbody>\n",
              "</table>\n",
              "</div>"
            ],
            "text/plain": [
              "           card_id    target\n",
              "0  C_ID_0ab67a22ab  0.191482\n",
              "1  C_ID_130fd0cbdd  0.004683\n",
              "2  C_ID_b709037bc5  0.007254\n",
              "3  C_ID_d27d835a9f  0.004683\n",
              "4  C_ID_2b5e3df5c2  0.004683"
            ]
          },
          "metadata": {
            "tags": []
          },
          "execution_count": 12
        }
      ]
    },
    {
      "cell_type": "markdown",
      "metadata": {
        "_uuid": "a6cdbee1c92967a2ecb3924ab58af8d86675df31",
        "id": "balIGjj83qhK",
        "colab_type": "text"
      },
      "source": [
        "## **III. Combining Submission**:\n",
        "So far so good !\n",
        "We now have three dataset:\n",
        "\n",
        "1. Best Submission\n",
        "2. Prediction Using Model Without Outliers\n",
        "3. Probability of Outliers In Test set\n"
      ]
    },
    {
      "cell_type": "markdown",
      "metadata": {
        "id": "r4u1Ic9CKcPr",
        "colab_type": "text"
      },
      "source": [
        "If the test set has the same ratio of outliers as training set, then the numbuer of outliers in test is about: (1.06% outliers in training set)\n",
        "123623*0.0106"
      ]
    },
    {
      "cell_type": "code",
      "metadata": {
        "trusted": true,
        "_uuid": "40e683026c0e476bae7d15a759b97fa027af977d",
        "id": "Qlf-nbq73qhU",
        "colab_type": "code",
        "colab": {}
      },
      "source": [
        "# In case missing some predictable outlier, we choose top 25000 with highest outliers likelyhood.\n",
        "outlier_id = pd.DataFrame(df_outlier_prob.sort_values(by='target',ascending = False).head(25000)['card_id'])"
      ],
      "execution_count": 0,
      "outputs": []
    },
    {
      "cell_type": "code",
      "metadata": {
        "trusted": true,
        "_uuid": "e4c9575fad64e1cf9bd38e48fcf5e988b850189f",
        "id": "hCAr_F7o3qhj",
        "colab_type": "code",
        "colab": {}
      },
      "source": [
        "best_submission = pd.read_csv('/content/3.695.csv')"
      ],
      "execution_count": 0,
      "outputs": []
    },
    {
      "cell_type": "code",
      "metadata": {
        "scrolled": true,
        "trusted": true,
        "_uuid": "7c6f4c87221dd9fa0bf2f87a60e46abbe39f7164",
        "id": "SxAd2SjL3qh3",
        "colab_type": "code",
        "colab": {
          "base_uri": "https://localhost:8080/",
          "height": 204
        },
        "outputId": "4db73a97-ca02-4358-d8e6-53c3948098f2"
      },
      "source": [
        "most_likely_liers = best_submission.merge(outlier_id,how='right')\n",
        "most_likely_liers.head()"
      ],
      "execution_count": 16,
      "outputs": [
        {
          "output_type": "execute_result",
          "data": {
            "text/html": [
              "<div>\n",
              "<style scoped>\n",
              "    .dataframe tbody tr th:only-of-type {\n",
              "        vertical-align: middle;\n",
              "    }\n",
              "\n",
              "    .dataframe tbody tr th {\n",
              "        vertical-align: top;\n",
              "    }\n",
              "\n",
              "    .dataframe thead th {\n",
              "        text-align: right;\n",
              "    }\n",
              "</style>\n",
              "<table border=\"1\" class=\"dataframe\">\n",
              "  <thead>\n",
              "    <tr style=\"text-align: right;\">\n",
              "      <th></th>\n",
              "      <th>card_id</th>\n",
              "      <th>target</th>\n",
              "    </tr>\n",
              "  </thead>\n",
              "  <tbody>\n",
              "    <tr>\n",
              "      <th>0</th>\n",
              "      <td>C_ID_0ab67a22ab</td>\n",
              "      <td>-2.502326</td>\n",
              "    </tr>\n",
              "    <tr>\n",
              "      <th>1</th>\n",
              "      <td>C_ID_6d8dba8475</td>\n",
              "      <td>-0.893964</td>\n",
              "    </tr>\n",
              "    <tr>\n",
              "      <th>2</th>\n",
              "      <td>C_ID_7f1041e8e1</td>\n",
              "      <td>-4.872942</td>\n",
              "    </tr>\n",
              "    <tr>\n",
              "      <th>3</th>\n",
              "      <td>C_ID_22e4a47c72</td>\n",
              "      <td>0.393946</td>\n",
              "    </tr>\n",
              "    <tr>\n",
              "      <th>4</th>\n",
              "      <td>C_ID_b54cfad8b2</td>\n",
              "      <td>-0.656266</td>\n",
              "    </tr>\n",
              "  </tbody>\n",
              "</table>\n",
              "</div>"
            ],
            "text/plain": [
              "           card_id    target\n",
              "0  C_ID_0ab67a22ab -2.502326\n",
              "1  C_ID_6d8dba8475 -0.893964\n",
              "2  C_ID_7f1041e8e1 -4.872942\n",
              "3  C_ID_22e4a47c72  0.393946\n",
              "4  C_ID_b54cfad8b2 -0.656266"
            ]
          },
          "metadata": {
            "tags": []
          },
          "execution_count": 16
        }
      ]
    },
    {
      "cell_type": "code",
      "metadata": {
        "trusted": true,
        "_uuid": "0f1518b58748e9dd2ef3c1d92f161d03f923bac5",
        "id": "yHS_5o7L3qiT",
        "colab_type": "code",
        "colab": {
          "base_uri": "https://localhost:8080/",
          "height": 51
        },
        "outputId": "1264b726-7390-43ae-c8cb-24b3da42857a"
      },
      "source": [
        "%%time\n",
        "for card_id in most_likely_liers['card_id']:\n",
        "    model_without_outliers.loc[model_without_outliers['card_id']==card_id,'target']\\\n",
        "    = most_likely_liers.loc[most_likely_liers['card_id']==card_id,'target'].values"
      ],
      "execution_count": 17,
      "outputs": [
        {
          "output_type": "stream",
          "text": [
            "CPU times: user 3min 56s, sys: 563 ms, total: 3min 56s\n",
            "Wall time: 3min 56s\n"
          ],
          "name": "stdout"
        }
      ]
    },
    {
      "cell_type": "code",
      "metadata": {
        "trusted": true,
        "_uuid": "21e2c892dc716481293cb0b34f6b67be3a912aa9",
        "id": "z5C-17cf3qiq",
        "colab_type": "code",
        "colab": {}
      },
      "source": [
        "model_without_outliers.to_csv(\"model_no_outlier.csv\", index=False)"
      ],
      "execution_count": 0,
      "outputs": []
    }
  ]
}